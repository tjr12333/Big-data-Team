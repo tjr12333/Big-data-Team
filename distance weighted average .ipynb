{
 "cells": [
  {
   "cell_type": "code",
   "execution_count": 1,
   "id": "9b219dd6",
   "metadata": {},
   "outputs": [],
   "source": [
    "import pandas as pd\n",
    "import numpy as np\n",
    "import matplotlib.pyplot as plt\n",
    "import seaborn as sns"
   ]
  },
  {
   "cell_type": "code",
   "execution_count": 2,
   "id": "43436f39",
   "metadata": {},
   "outputs": [],
   "source": [
    "df = pd.read_csv(\"total 3.csv\", encoding='cp949')"
   ]
  },
  {
   "cell_type": "code",
   "execution_count": 3,
   "id": "a580bcba",
   "metadata": {},
   "outputs": [],
   "source": [
    "data1 = df[df[\"매물 구분\"].str.contains(\"전세\")].reset_index(drop=True)\n",
    "data2 = df[df[\"매물 구분\"].str.contains(\"월세\")].reset_index(drop=True)\n",
    "data3 = df[df[\"매물 구분\"].str.contains(\"매매\")].reset_index(drop=True)"
   ]
  },
  {
   "cell_type": "code",
   "execution_count": 4,
   "id": "4f751d0f",
   "metadata": {},
   "outputs": [],
   "source": [
    "data1_coordinate = data1[['위도','경도']]\n",
    "data1_price = data1['보증금']\n",
    "data2_coordinate = data2[['위도','경도']]\n",
    "data2_price = data2[['보증금','월세 금액']]\n",
    "data3_coordinate = data3[['위도','경도']]\n",
    "data3_price = data3['매매 금액']"
   ]
  },
  {
   "cell_type": "code",
   "execution_count": 5,
   "id": "0a9297da",
   "metadata": {},
   "outputs": [
    {
     "name": "stdout",
     "output_type": "stream",
     "text": [
      "23641.995144246404\n"
     ]
    }
   ],
   "source": [
    "import pandas as pd\n",
    "import numpy as np\n",
    "import math\n",
    "\n",
    "def calculate_distance(coord1, coord2):\n",
    "    x1, y1 = coord1\n",
    "    x2, y2 = coord2\n",
    "\n",
    "    # 유클리드 거리 계산\n",
    "    distance = math.sqrt((x2 - x1) ** 2 + (y2 - y1) ** 2)\n",
    "\n",
    "    return distance\n",
    "\n",
    "def find_closest_coordinates(base_coord, coordinates, num_closest):\n",
    "    # 기준 좌표와 각 좌표 사이의 거리를 계산합니다.\n",
    "    distances = [(coord, calculate_distance(base_coord, coord)) for coord in coordinates]\n",
    "\n",
    "    # 거리를 기준으로 가장 가까운 순서대로 정렬합니다.\n",
    "    sorted_distances = sorted(distances, key=lambda x: x[1])\n",
    "\n",
    "    # 가장 가까운 세 좌표를 선택합니다.\n",
    "    closest_coordinates = [coord for coord, _ in sorted_distances[:num_closest]]\n",
    "\n",
    "    return closest_coordinates\n",
    "\n",
    "def calculate_distance_ratio(coordA, coordB, coordC):\n",
    "    # A와 B 사이의 거리 계산\n",
    "    distance_AB = calculate_distance(coordA, coordB)\n",
    "\n",
    "    # A와 C 사이의 거리 계산\n",
    "    distance_AC = calculate_distance(coordA, coordC)\n",
    "\n",
    "    # B와 C 사이의 거리 계산\n",
    "    distance_BC = calculate_distance(coordB, coordC)\n",
    "\n",
    "    # 거리 비율 계산\n",
    "    ratio_AB_AC = distance_AB / distance_AC\n",
    "    ratio_BC_AC = distance_BC / distance_AC\n",
    "\n",
    "    return ratio_AB_AC, ratio_BC_AC\n",
    "\n",
    "def weighted_average(data):\n",
    "    total_weight = 0\n",
    "    weighted_sum = 0\n",
    "\n",
    "    # 가중 평균을 계산하기 위해 데이터를 반복합니다.\n",
    "    for value, weight in data:\n",
    "        # 가중치를 곱하여 가중합을 계산합니다.\n",
    "        value = float(value)\n",
    "#     print(type(weighted_sum), type(value), type(weight))\n",
    "        weighted_sum += value * weight\n",
    "        \n",
    "\n",
    "        # 가중치의 총합을 계산합니다.\n",
    "        total_weight += weight\n",
    "\n",
    "    # 가중 평균 값을 계산합니다.\n",
    "    weighted_avg = weighted_sum / total_weight\n",
    "\n",
    "    return weighted_avg\n",
    "\n",
    "\n",
    "# 좌표 리스트를 data1_coordinate에서 가져옵니다.\n",
    "coordinate_list = data1_coordinate.values.tolist()\n",
    "coordinate_list2 = data2_coordinate.values.tolist()\n",
    "coordinate_list3 = data3_coordinate.values.tolist()\n",
    "\n",
    "\n",
    "# 값 리스트를 data1_price에서 가져옵니다.\n",
    "price_list = data1_price.tolist()\n",
    "price_list2 = data2_price.tolist()\n",
    "price_list3 = data3_price.tolist()\n",
    "\n",
    "\n",
    "# 기준 좌표 (임의로 설정)\n",
    "base_coordinate = (37.123, 126.456)\n",
    "\n",
    "# 가장 가까운 세 좌표를 구합니다.\n",
    "num_closest = 3\n",
    "closest_coordinates = find_closest_coordinates(base_coordinate, coordinate_list, num_closest)\n",
    "\n",
    "# 세 좌표 사이의 거리 비율을 계산합니다.\n",
    "ratio_AB_AC, ratio_BC_AC = calculate_distance_ratio(closest_coordinates[0], closest_coordinates[1], closest_coordinates[2])\n",
    "\n",
    "# 거리 비율을 가중치로 사용하여 가중 평균을 계산하기 위한 데이터를 구성합니다.\n",
    "data = [(value, ratio_AB_AC) for value in price_list] + [(value, ratio_BC_AC) for value in price_list] + [(value, 1) for value in price_list]\n",
    "\n",
    "# 가중 평균을 계산합니다.\n",
    "result = weighted_average(data)\n",
    "\n",
    "print(result)"
   ]
  }
 ],
 "metadata": {
  "kernelspec": {
   "display_name": "Python 3 (ipykernel)",
   "language": "python",
   "name": "python3"
  },
  "language_info": {
   "codemirror_mode": {
    "name": "ipython",
    "version": 3
   },
   "file_extension": ".py",
   "mimetype": "text/x-python",
   "name": "python",
   "nbconvert_exporter": "python",
   "pygments_lexer": "ipython3",
   "version": "3.10.9"
  }
 },
 "nbformat": 4,
 "nbformat_minor": 5
}
